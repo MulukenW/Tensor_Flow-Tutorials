{
  "nbformat": 4,
  "nbformat_minor": 0,
  "metadata": {
    "colab": {
      "name": "CNN MNIST Fashion Case Study.ipynb",
      "provenance": []
    },
    "kernelspec": {
      "name": "python3",
      "display_name": "Python 3"
    },
    "language_info": {
      "name": "python"
    },
    "accelerator": "GPU"
  },
  "cells": [
    {
      "cell_type": "code",
      "execution_count": 2,
      "metadata": {
        "colab": {
          "base_uri": "https://localhost:8080/"
        },
        "id": "PK0qcMPdpDZ9",
        "outputId": "9e71c5c9-54db-41c8-c631-78aec31dca42"
      },
      "outputs": [
        {
          "output_type": "stream",
          "name": "stdout",
          "text": [
            "Downloading data from https://storage.googleapis.com/tensorflow/tf-keras-datasets/train-labels-idx1-ubyte.gz\n",
            "32768/29515 [=================================] - 0s 0us/step\n",
            "40960/29515 [=========================================] - 0s 0us/step\n",
            "Downloading data from https://storage.googleapis.com/tensorflow/tf-keras-datasets/train-images-idx3-ubyte.gz\n",
            "26427392/26421880 [==============================] - 0s 0us/step\n",
            "26435584/26421880 [==============================] - 0s 0us/step\n",
            "Downloading data from https://storage.googleapis.com/tensorflow/tf-keras-datasets/t10k-labels-idx1-ubyte.gz\n",
            "16384/5148 [===============================================================================================] - 0s 0us/step\n",
            "Downloading data from https://storage.googleapis.com/tensorflow/tf-keras-datasets/t10k-images-idx3-ubyte.gz\n",
            "4423680/4422102 [==============================] - 0s 0us/step\n",
            "4431872/4422102 [==============================] - 0s 0us/step\n"
          ]
        }
      ],
      "source": [
        "from keras.datasets import fashion_mnist\n",
        "(train_X,train_Y), (test_X,test_Y) = fashion_mnist.load_data()"
      ]
    },
    {
      "cell_type": "markdown",
      "source": [
        "Analyze the data:"
      ],
      "metadata": {
        "id": "MBeg_uBQpRqD"
      }
    },
    {
      "cell_type": "code",
      "source": [
        "import numpy as np\n",
        "from tensorflow.keras.utils import to_categorical\n",
        "import matplotlib.pyplot as plt\n",
        "\n",
        "print('Training data shape : ', train_X.shape, train_Y.shape)\n",
        "\n",
        "print('Testing data shape : ', test_X.shape, test_Y.shape)"
      ],
      "metadata": {
        "colab": {
          "base_uri": "https://localhost:8080/"
        },
        "id": "DP3hk24ypJME",
        "outputId": "d4c47f5f-b978-45f7-f43d-2a0cb31e3304"
      },
      "execution_count": 3,
      "outputs": [
        {
          "output_type": "stream",
          "name": "stdout",
          "text": [
            "Training data shape :  (60000, 28, 28) (60000,)\n",
            "Testing data shape :  (10000, 28, 28) (10000,)\n"
          ]
        }
      ]
    },
    {
      "cell_type": "code",
      "source": [
        "# Find the unique numbers from the train labels\n",
        "classes = np.unique(train_Y)\n",
        "nClasses = len(classes)\n",
        "print('Total number of outputs : ', nClasses)\n",
        "print('Output classes : ', classes)"
      ],
      "metadata": {
        "colab": {
          "base_uri": "https://localhost:8080/"
        },
        "id": "qMg0pa9JpWyN",
        "outputId": "949a995c-126d-419b-eec2-c38e34495d8c"
      },
      "execution_count": 4,
      "outputs": [
        {
          "output_type": "stream",
          "name": "stdout",
          "text": [
            "Total number of outputs :  10\n",
            "Output classes :  [0 1 2 3 4 5 6 7 8 9]\n"
          ]
        }
      ]
    },
    {
      "cell_type": "code",
      "source": [
        "plt.figure(figsize=[5,5])\n",
        "\n",
        "# Display the first image in training data\n",
        "plt.subplot(121)\n",
        "plt.imshow(train_X[0,:,:], cmap='gray')\n",
        "plt.title(\"Ground Truth : {}\".format(train_Y[0]))\n",
        "\n",
        "# Display the first image in testing data\n",
        "plt.subplot(122)\n",
        "plt.imshow(test_X[0,:,:], cmap='gray')\n",
        "plt.title(\"Ground Truth : {}\".format(test_Y[0]))"
      ],
      "metadata": {
        "colab": {
          "base_uri": "https://localhost:8080/",
          "height": 208
        },
        "id": "BQUwmvCzpod3",
        "outputId": "bb165e84-32d6-4a92-c435-e251b773129f"
      },
      "execution_count": 5,
      "outputs": [
        {
          "output_type": "execute_result",
          "data": {
            "text/plain": [
              "Text(0.5, 1.0, 'Ground Truth : 9')"
            ]
          },
          "metadata": {},
          "execution_count": 5
        },
        {
          "output_type": "display_data",
          "data": {
            "image/png": "[encoded data removed]",
            "text/plain": [
              "<Figure size 360x360 with 2 Axes>"
            ]
          },
          "metadata": {
            "needs_background": "light"
          }
        }
      ]
    },
    {
      "cell_type": "markdown",
      "source": [
        "Data Pre-processing:"
      ],
      "metadata": {
        "id": "xfhrtqOVp2E3"
      }
    },
    {
      "cell_type": "code",
      "source": [
        "train_X = train_X.reshape(-1, 28,28, 1)\n",
        "test_X = test_X.reshape(-1, 28,28, 1)\n",
        "train_X.shape, test_X.shape"
      ],
      "metadata": {
        "colab": {
          "base_uri": "https://localhost:8080/"
        },
        "id": "pQkprsa8pwN1",
        "outputId": "dbe39c31-0ff5-463a-900c-061dcb00c953"
      },
      "execution_count": 6,
      "outputs": [
        {
          "output_type": "execute_result",
          "data": {
            "text/plain": [
              "((60000, 28, 28, 1), (10000, 28, 28, 1))"
            ]
          },
          "metadata": {},
          "execution_count": 6
        }
      ]
    },
    {
      "cell_type": "code",
      "source": [
        "train_X = train_X.astype('float32')\n",
        "test_X = test_X.astype('float32')\n",
        "train_X = train_X / 255.\n",
        "test_X = test_X / 255."
      ],
      "metadata": {
        "id": "c2n-oFSfqBkN"
      },
      "execution_count": 7,
      "outputs": []
    },
    {
      "cell_type": "code",
      "source": [
        "# Change the labels from categorical to one-hot encoding\n",
        "train_Y_one_hot = to_categorical(train_Y)\n",
        "test_Y_one_hot = to_categorical(test_Y)\n",
        "\n",
        "# Display the change for category label using one-hot encoding\n",
        "print('Original label:', train_Y[0])\n",
        "print('After conversion to one-hot:', train_Y_one_hot[0])"
      ],
      "metadata": {
        "colab": {
          "base_uri": "https://localhost:8080/"
        },
        "id": "OKTGz6cMqCq0",
        "outputId": "b543a048-f18f-44fd-e313-2b0568554a11"
      },
      "execution_count": 8,
      "outputs": [
        {
          "output_type": "stream",
          "name": "stdout",
          "text": [
            "Original label: 9\n",
            "After conversion to one-hot: [0. 0. 0. 0. 0. 0. 0. 0. 0. 1.]\n"
          ]
        }
      ]
    },
    {
      "cell_type": "code",
      "source": [
        "from sklearn.model_selection import train_test_split\n",
        "train_X,valid_X,train_label,valid_label = train_test_split(train_X, train_Y_one_hot, test_size=0.2, random_state=13)"
      ],
      "metadata": {
        "id": "NuyR5xXXqKG4"
      },
      "execution_count": 9,
      "outputs": []
    },
    {
      "cell_type": "code",
      "source": [
        "train_X.shape,valid_X.shape,train_label.shape,valid_label.shape"
      ],
      "metadata": {
        "colab": {
          "base_uri": "https://localhost:8080/"
        },
        "id": "d5WLRM8WqTnx",
        "outputId": "3bccfbf2-e32e-4060-a05c-2949940aecd4"
      },
      "execution_count": 10,
      "outputs": [
        {
          "output_type": "execute_result",
          "data": {
            "text/plain": [
              "((48000, 28, 28, 1), (12000, 28, 28, 1), (48000, 10), (12000, 10))"
            ]
          },
          "metadata": {},
          "execution_count": 10
        }
      ]
    },
    {
      "cell_type": "markdown",
      "source": [
        "#Model"
      ],
      "metadata": {
        "id": "LlSZfo5oqh_6"
      }
    },
    {
      "cell_type": "code",
      "source": [
        "import keras\n",
        "from keras.models import Sequential,Input,Model\n",
        "from keras.layers import Dense, Dropout, Flatten\n",
        "from keras.layers import Conv2D, MaxPooling2D\n",
        "from tensorflow.keras.layers import BatchNormalization\n",
        "from keras.layers.advanced_activations import LeakyReLU"
      ],
      "metadata": {
        "id": "ZWRklfCdqara"
      },
      "execution_count": 11,
      "outputs": []
    },
    {
      "cell_type": "code",
      "source": [
        "batch_size = 64\n",
        "epochs = 20\n",
        "num_classes = 10"
      ],
      "metadata": {
        "id": "rKh_EyU2qkja"
      },
      "execution_count": 12,
      "outputs": []
    },
    {
      "cell_type": "code",
      "source": [
        "fashion_model = Sequential()\n",
        "fashion_model.add(Conv2D(32, kernel_size=(3, 3),activation='linear',input_shape=(28,28,1),padding='same'))\n",
        "fashion_model.add(LeakyReLU(alpha=0.1))\n",
        "fashion_model.add(MaxPooling2D((2, 2),padding='same'))\n",
        "fashion_model.add(Conv2D(64, (3, 3), activation='linear',padding='same'))\n",
        "fashion_model.add(LeakyReLU(alpha=0.1))\n",
        "fashion_model.add(MaxPooling2D(pool_size=(2, 2),padding='same'))\n",
        "fashion_model.add(Conv2D(128, (3, 3), activation='linear',padding='same'))\n",
        "fashion_model.add(LeakyReLU(alpha=0.1))                  \n",
        "fashion_model.add(MaxPooling2D(pool_size=(2, 2),padding='same'))\n",
        "fashion_model.add(Flatten())\n",
        "fashion_model.add(Dense(128, activation='linear'))\n",
        "fashion_model.add(LeakyReLU(alpha=0.1))                  \n",
        "fashion_model.add(Dense(num_classes, activation='softmax'))"
      ],
      "metadata": {
        "id": "DQX91jaUrN5J"
      },
      "execution_count": 13,
      "outputs": []
    },
    {
      "cell_type": "code",
      "source": [
        "fashion_model.compile(loss='categorical_crossentropy', optimizer='adam',metrics=['accuracy'])"
      ],
      "metadata": {
        "id": "XkA09HWzruv0"
      },
      "execution_count": 14,
      "outputs": []
    },
    {
      "cell_type": "code",
      "source": [
        "fashion_model.summary()"
      ],
      "metadata": {
        "colab": {
          "base_uri": "https://localhost:8080/"
        },
        "id": "sAKI2htIr0Fk",
        "outputId": "62f87972-5545-460a-df0c-e6eb44cb6181"
      },
      "execution_count": 15,
      "outputs": [
        {
          "output_type": "stream",
          "name": "stdout",
          "text": [
            "Model: \"sequential\"\n",
            "_________________________________________________________________\n",
            " Layer (type)                Output Shape              Param #   \n",
            "=================================================================\n",
            " conv2d (Conv2D)             (None, 28, 28, 32)        320       \n",
            "                                                                 \n",
            " leaky_re_lu (LeakyReLU)     (None, 28, 28, 32)        0         \n",
            "                                                                 \n",
            " max_pooling2d (MaxPooling2D  (None, 14, 14, 32)       0         \n",
            " )                                                               \n",
            "                                                                 \n",
            " conv2d_1 (Conv2D)           (None, 14, 14, 64)        18496     \n",
            "                                                                 \n",
            " leaky_re_lu_1 (LeakyReLU)   (None, 14, 14, 64)        0         \n",
            "                                                                 \n",
            " max_pooling2d_1 (MaxPooling  (None, 7, 7, 64)         0         \n",
            " 2D)                                                             \n",
            "                                                                 \n",
            " conv2d_2 (Conv2D)           (None, 7, 7, 128)         73856     \n",
            "                                                                 \n",
            " leaky_re_lu_2 (LeakyReLU)   (None, 7, 7, 128)         0         \n",
            "                                                                 \n",
            " max_pooling2d_2 (MaxPooling  (None, 4, 4, 128)        0         \n",
            " 2D)                                                             \n",
            "                                                                 \n",
            " flatten (Flatten)           (None, 2048)              0         \n",
            "                                                                 \n",
            " dense (Dense)               (None, 128)               262272    \n",
            "                                                                 \n",
            " leaky_re_lu_3 (LeakyReLU)   (None, 128)               0         \n",
            "                                                                 \n",
            " dense_1 (Dense)             (None, 10)                1290      \n",
            "                                                                 \n",
            "=================================================================\n",
            "Total params: 356,234\n",
            "Trainable params: 356,234\n",
            "Non-trainable params: 0\n",
            "_________________________________________________________________\n"
          ]
        }
      ]
    },
    {
      "cell_type": "code",
      "source": [
        "fashion_train = fashion_model.fit(train_X, train_label, batch_size=batch_size,epochs=epochs,verbose=1,validation_data=(valid_X, valid_label))"
      ],
      "metadata": {
        "colab": {
          "base_uri": "https://localhost:8080/"
        },
        "id": "BdiDLZrSsNU5",
        "outputId": "03bf7bb6-be41-40bd-bcf4-0195ec29da9d"
      },
      "execution_count": 16,
      "outputs": [
        {
          "output_type": "stream",
          "name": "stdout",
          "text": [
            "Epoch 1/20\n",
            "750/750 [==============================] - 21s 15ms/step - loss: 0.4532 - accuracy: 0.8353 - val_loss: 0.3294 - val_accuracy: 0.8789\n",
            "Epoch 2/20\n",
            "750/750 [==============================] - 11s 15ms/step - loss: 0.2833 - accuracy: 0.8960 - val_loss: 0.2595 - val_accuracy: 0.9048\n",
            "Epoch 3/20\n",
            "750/750 [==============================] - 11s 15ms/step - loss: 0.2396 - accuracy: 0.9122 - val_loss: 0.2447 - val_accuracy: 0.9124\n",
            "Epoch 4/20\n",
            "750/750 [==============================] - 11s 15ms/step - loss: 0.2051 - accuracy: 0.9238 - val_loss: 0.2387 - val_accuracy: 0.9139\n",
            "Epoch 5/20\n",
            "750/750 [==============================] - 11s 15ms/step - loss: 0.1807 - accuracy: 0.9330 - val_loss: 0.2247 - val_accuracy: 0.9190\n",
            "Epoch 6/20\n",
            "750/750 [==============================] - 11s 15ms/step - loss: 0.1573 - accuracy: 0.9416 - val_loss: 0.2232 - val_accuracy: 0.9227\n",
            "Epoch 7/20\n",
            "750/750 [==============================] - 11s 15ms/step - loss: 0.1383 - accuracy: 0.9480 - val_loss: 0.2511 - val_accuracy: 0.9141\n",
            "Epoch 8/20\n",
            "750/750 [==============================] - 11s 15ms/step - loss: 0.1174 - accuracy: 0.9562 - val_loss: 0.2454 - val_accuracy: 0.9190\n",
            "Epoch 9/20\n",
            "750/750 [==============================] - 11s 14ms/step - loss: 0.0994 - accuracy: 0.9638 - val_loss: 0.2469 - val_accuracy: 0.9233\n",
            "Epoch 10/20\n",
            "750/750 [==============================] - 11s 14ms/step - loss: 0.0845 - accuracy: 0.9683 - val_loss: 0.2696 - val_accuracy: 0.9159\n",
            "Epoch 11/20\n",
            "750/750 [==============================] - 11s 14ms/step - loss: 0.0700 - accuracy: 0.9743 - val_loss: 0.3017 - val_accuracy: 0.9178\n",
            "Epoch 12/20\n",
            "750/750 [==============================] - 11s 15ms/step - loss: 0.0629 - accuracy: 0.9766 - val_loss: 0.3210 - val_accuracy: 0.9173\n",
            "Epoch 13/20\n",
            "750/750 [==============================] - 11s 15ms/step - loss: 0.0507 - accuracy: 0.9808 - val_loss: 0.3173 - val_accuracy: 0.9232\n",
            "Epoch 14/20\n",
            "750/750 [==============================] - 11s 15ms/step - loss: 0.0482 - accuracy: 0.9815 - val_loss: 0.3531 - val_accuracy: 0.9218\n",
            "Epoch 15/20\n",
            "750/750 [==============================] - 11s 14ms/step - loss: 0.0429 - accuracy: 0.9843 - val_loss: 0.4148 - val_accuracy: 0.9171\n",
            "Epoch 16/20\n",
            "750/750 [==============================] - 11s 15ms/step - loss: 0.0414 - accuracy: 0.9845 - val_loss: 0.3756 - val_accuracy: 0.9223\n",
            "Epoch 17/20\n",
            "750/750 [==============================] - 11s 15ms/step - loss: 0.0313 - accuracy: 0.9887 - val_loss: 0.4509 - val_accuracy: 0.9154\n",
            "Epoch 18/20\n",
            "750/750 [==============================] - 11s 14ms/step - loss: 0.0367 - accuracy: 0.9869 - val_loss: 0.4141 - val_accuracy: 0.9231\n",
            "Epoch 19/20\n",
            "750/750 [==============================] - 11s 15ms/step - loss: 0.0288 - accuracy: 0.9894 - val_loss: 0.4444 - val_accuracy: 0.9190\n",
            "Epoch 20/20\n",
            "750/750 [==============================] - 11s 15ms/step - loss: 0.0339 - accuracy: 0.9874 - val_loss: 0.4544 - val_accuracy: 0.9146\n"
          ]
        }
      ]
    },
    {
      "cell_type": "code",
      "source": [
        "test_eval = fashion_model.evaluate(test_X, test_Y_one_hot, verbose=0)"
      ],
      "metadata": {
        "id": "unwretSVsUL6"
      },
      "execution_count": 17,
      "outputs": []
    },
    {
      "cell_type": "code",
      "source": [
        "print('Test loss:', test_eval[0])\n",
        "print('Test accuracy:', test_eval[1])"
      ],
      "metadata": {
        "id": "7-NFApuxshhd",
        "colab": {
          "base_uri": "https://localhost:8080/"
        },
        "outputId": "8b53bc51-ecfc-472d-a076-c2c0b8df8632"
      },
      "execution_count": 18,
      "outputs": [
        {
          "output_type": "stream",
          "name": "stdout",
          "text": [
            "Test loss: 0.4479568898677826\n",
            "Test accuracy: 0.9157999753952026\n"
          ]
        }
      ]
    },
    {
      "cell_type": "code",
      "source": [
        "accuracy = fashion_train.history['accuracy']\n",
        "val_accuracy = fashion_train.history['val_accuracy']\n",
        "loss = fashion_train.history['loss']\n",
        "val_loss = fashion_train.history['val_loss']\n",
        "epochs = range(len(accuracy))\n",
        "plt.plot(epochs, accuracy, 'bo', label='Training accuracy')\n",
        "plt.plot(epochs, val_accuracy, 'b', label='Validation accuracy')\n",
        "plt.title('Training and validation accuracy')\n",
        "plt.legend()\n",
        "plt.figure()\n",
        "plt.plot(epochs, loss, 'bo', label='Training loss')\n",
        "plt.plot(epochs, val_loss, 'b', label='Validation loss')\n",
        "plt.title('Training and validation loss')\n",
        "plt.legend()\n",
        "plt.show()"
      ],
      "metadata": {
        "id": "92QocDL3sqGE",
        "colab": {
          "base_uri": "https://localhost:8080/",
          "height": 545
        },
        "outputId": "0ebc58a4-cc35-4292-c6a7-b4865d23be69"
      },
      "execution_count": 21,
      "outputs": [
        {
          "output_type": "display_data",
          "data": {
            "image/png": "[encoded data removed]",
            "text/plain": [
              "<Figure size 432x288 with 1 Axes>"
            ]
          },
          "metadata": {
            "needs_background": "light"
          }
        },
        {
          "output_type": "display_data",
          "data": {
            "image/png": "[encoded data removed]",
            "text/plain": [
              "<Figure size 432x288 with 1 Axes>"
            ]
          },
          "metadata": {
            "needs_background": "light"
          }
        }
      ]
    },
    {
      "cell_type": "markdown",
      "source": [
        "Add Dropout:"
      ],
      "metadata": {
        "id": "2HvMCM-2swkV"
      }
    },
    {
      "cell_type": "code",
      "source": [
        "batch_size = 64\n",
        "epochs = 20\n",
        "num_classes = 10"
      ],
      "metadata": {
        "id": "eug4FJe_svxg"
      },
      "execution_count": 22,
      "outputs": []
    },
    {
      "cell_type": "code",
      "source": [
        "fashion_model = Sequential()\n",
        "fashion_model.add(Conv2D(32, kernel_size=(3, 3),activation='linear',padding='same',input_shape=(28,28,1)))\n",
        "fashion_model.add(LeakyReLU(alpha=0.1))\n",
        "fashion_model.add(MaxPooling2D((2, 2),padding='same'))\n",
        "fashion_model.add(Dropout(0.25))\n",
        "fashion_model.add(Conv2D(64, (3, 3), activation='linear',padding='same'))\n",
        "fashion_model.add(LeakyReLU(alpha=0.1))\n",
        "fashion_model.add(MaxPooling2D(pool_size=(2, 2),padding='same'))\n",
        "fashion_model.add(Dropout(0.25))\n",
        "fashion_model.add(Conv2D(128, (3, 3), activation='linear',padding='same'))\n",
        "fashion_model.add(LeakyReLU(alpha=0.1))                  \n",
        "fashion_model.add(MaxPooling2D(pool_size=(2, 2),padding='same'))\n",
        "fashion_model.add(Dropout(0.4))\n",
        "fashion_model.add(Flatten())\n",
        "fashion_model.add(Dense(128, activation='linear'))\n",
        "fashion_model.add(LeakyReLU(alpha=0.1))           \n",
        "fashion_model.add(Dropout(0.3))\n",
        "fashion_model.add(Dense(num_classes, activation='softmax'))"
      ],
      "metadata": {
        "id": "ZfJJEjxgs831"
      },
      "execution_count": 23,
      "outputs": []
    },
    {
      "cell_type": "code",
      "source": [
        "fashion_model.compile(loss='categorical_crossentropy', optimizer='adam',metrics=['accuracy'])"
      ],
      "metadata": {
        "id": "GEN40pGStD0Q"
      },
      "execution_count": 24,
      "outputs": []
    },
    {
      "cell_type": "code",
      "source": [
        "fashion_train_dropout = fashion_model.fit(train_X, train_label, batch_size=batch_size,epochs=epochs,verbose=1,validation_data=(valid_X, valid_label))"
      ],
      "metadata": {
        "id": "DwZj3AjVtMTh",
        "colab": {
          "base_uri": "https://localhost:8080/"
        },
        "outputId": "9d067ed8-cf98-4395-d8e4-126d1dac4db3"
      },
      "execution_count": 25,
      "outputs": [
        {
          "output_type": "stream",
          "name": "stdout",
          "text": [
            "Epoch 1/20\n",
            "750/750 [==============================] - 13s 16ms/step - loss: 0.5961 - accuracy: 0.7783 - val_loss: 0.3759 - val_accuracy: 0.8637\n",
            "Epoch 2/20\n",
            "750/750 [==============================] - 11s 15ms/step - loss: 0.3768 - accuracy: 0.8615 - val_loss: 0.3108 - val_accuracy: 0.8863\n",
            "Epoch 3/20\n",
            "750/750 [==============================] - 12s 15ms/step - loss: 0.3277 - accuracy: 0.8791 - val_loss: 0.2794 - val_accuracy: 0.8967\n",
            "Epoch 4/20\n",
            "750/750 [==============================] - 12s 15ms/step - loss: 0.2976 - accuracy: 0.8911 - val_loss: 0.2512 - val_accuracy: 0.9053\n",
            "Epoch 5/20\n",
            "750/750 [==============================] - 11s 15ms/step - loss: 0.2802 - accuracy: 0.8963 - val_loss: 0.2486 - val_accuracy: 0.9079\n",
            "Epoch 6/20\n",
            "750/750 [==============================] - 12s 15ms/step - loss: 0.2665 - accuracy: 0.9013 - val_loss: 0.2359 - val_accuracy: 0.9111\n",
            "Epoch 7/20\n",
            "750/750 [==============================] - 11s 15ms/step - loss: 0.2570 - accuracy: 0.9044 - val_loss: 0.2234 - val_accuracy: 0.9178\n",
            "Epoch 8/20\n",
            "750/750 [==============================] - 12s 16ms/step - loss: 0.2419 - accuracy: 0.9098 - val_loss: 0.2236 - val_accuracy: 0.9177\n",
            "Epoch 9/20\n",
            "750/750 [==============================] - 12s 16ms/step - loss: 0.2382 - accuracy: 0.9096 - val_loss: 0.2355 - val_accuracy: 0.9123\n",
            "Epoch 10/20\n",
            "750/750 [==============================] - 11s 15ms/step - loss: 0.2295 - accuracy: 0.9140 - val_loss: 0.2117 - val_accuracy: 0.9222\n",
            "Epoch 11/20\n",
            "750/750 [==============================] - 12s 15ms/step - loss: 0.2235 - accuracy: 0.9159 - val_loss: 0.2147 - val_accuracy: 0.9215\n",
            "Epoch 12/20\n",
            "750/750 [==============================] - 11s 15ms/step - loss: 0.2207 - accuracy: 0.9169 - val_loss: 0.2269 - val_accuracy: 0.9169\n",
            "Epoch 13/20\n",
            "750/750 [==============================] - 12s 15ms/step - loss: 0.2171 - accuracy: 0.9180 - val_loss: 0.2184 - val_accuracy: 0.9217\n",
            "Epoch 14/20\n",
            "750/750 [==============================] - 12s 15ms/step - loss: 0.2116 - accuracy: 0.9209 - val_loss: 0.2123 - val_accuracy: 0.9233\n",
            "Epoch 15/20\n",
            "750/750 [==============================] - 11s 15ms/step - loss: 0.2091 - accuracy: 0.9214 - val_loss: 0.2188 - val_accuracy: 0.9206\n",
            "Epoch 16/20\n",
            "750/750 [==============================] - 12s 15ms/step - loss: 0.2059 - accuracy: 0.9216 - val_loss: 0.2045 - val_accuracy: 0.9260\n",
            "Epoch 17/20\n",
            "750/750 [==============================] - 12s 16ms/step - loss: 0.2029 - accuracy: 0.9244 - val_loss: 0.2128 - val_accuracy: 0.9243\n",
            "Epoch 18/20\n",
            "750/750 [==============================] - 12s 15ms/step - loss: 0.2035 - accuracy: 0.9240 - val_loss: 0.2168 - val_accuracy: 0.9209\n",
            "Epoch 19/20\n",
            "750/750 [==============================] - 12s 16ms/step - loss: 0.1937 - accuracy: 0.9271 - val_loss: 0.2145 - val_accuracy: 0.9243\n",
            "Epoch 20/20\n",
            "750/750 [==============================] - 12s 15ms/step - loss: 0.1960 - accuracy: 0.9254 - val_loss: 0.2052 - val_accuracy: 0.9268\n"
          ]
        }
      ]
    },
    {
      "cell_type": "code",
      "source": [
        "fashion_model.save(\"fashion_model_dropout.h5py\")"
      ],
      "metadata": {
        "id": "cRR1iri7tUsz",
        "colab": {
          "base_uri": "https://localhost:8080/"
        },
        "outputId": "f3f8796c-0112-49a2-9355-b59450fce14e"
      },
      "execution_count": 26,
      "outputs": [
        {
          "output_type": "stream",
          "name": "stdout",
          "text": [
            "INFO:tensorflow:Assets written to: fashion_model_dropout.h5py/assets\n"
          ]
        }
      ]
    },
    {
      "cell_type": "markdown",
      "source": [
        "Model Evaluation on Test Dataset:"
      ],
      "metadata": {
        "id": "reK0dOdMtZav"
      }
    },
    {
      "cell_type": "code",
      "source": [
        "test_eval = fashion_model.evaluate(test_X, test_Y_one_hot, verbose=1)"
      ],
      "metadata": {
        "id": "OpIAQZI7tYh1",
        "colab": {
          "base_uri": "https://localhost:8080/"
        },
        "outputId": "cc58d7ae-d208-463b-d446-f03341662e38"
      },
      "execution_count": 27,
      "outputs": [
        {
          "output_type": "stream",
          "name": "stdout",
          "text": [
            "313/313 [==============================] - 2s 5ms/step - loss: 0.2208 - accuracy: 0.9187\n"
          ]
        }
      ]
    },
    {
      "cell_type": "code",
      "source": [
        "print('Test loss:', test_eval[0])\n",
        "print('Test accuracy:', test_eval[1])"
      ],
      "metadata": {
        "id": "fSJ3hzrHtffW",
        "colab": {
          "base_uri": "https://localhost:8080/"
        },
        "outputId": "5cbadab6-1dfa-4901-ec45-eba71c87a2a9"
      },
      "execution_count": 28,
      "outputs": [
        {
          "output_type": "stream",
          "name": "stdout",
          "text": [
            "Test loss: 0.22077451646327972\n",
            "Test accuracy: 0.9186999797821045\n"
          ]
        }
      ]
    },
    {
      "cell_type": "markdown",
      "source": [
        "Plotting Loss and Accuracy Curves:"
      ],
      "metadata": {
        "id": "ifO4xDkctkQB"
      }
    },
    {
      "cell_type": "code",
      "source": [
        "accuracy = fashion_train_dropout.history['accuracy']\n",
        "val_accuracy = fashion_train_dropout.history['val_accuracy']\n",
        "loss = fashion_train_dropout.history['loss']\n",
        "val_loss = fashion_train_dropout.history['val_loss']\n",
        "epochs = range(len(accuracy))\n",
        "plt.plot(epochs, accuracy, 'bo', label='Training accuracy')\n",
        "plt.plot(epochs, val_accuracy, 'b', label='Validation accuracy')\n",
        "plt.title('Training and validation accuracy')\n",
        "plt.legend()\n",
        "plt.figure()\n",
        "plt.plot(epochs, loss, 'bo', label='Training loss')\n",
        "plt.plot(epochs, val_loss, 'b', label='Validation loss')\n",
        "plt.title('Training and validation loss')\n",
        "plt.legend()\n",
        "plt.show()"
      ],
      "metadata": {
        "id": "JS2JeFFLtnn4",
        "colab": {
          "base_uri": "https://localhost:8080/",
          "height": 545
        },
        "outputId": "dc70bfc8-bc83-46d6-eac4-b6af9c945534"
      },
      "execution_count": 29,
      "outputs": [
        {
          "output_type": "display_data",
          "data": {
            "image/png": "[encoded data removed]",
            "text/plain": [
              "<Figure size 432x288 with 1 Axes>"
            ]
          },
          "metadata": {
            "needs_background": "light"
          }
        },
        {
          "output_type": "display_data",
          "data": {
            "image/png": "[encoded data removed]",
            "text/plain": [
              "<Figure size 432x288 with 1 Axes>"
            ]
          },
          "metadata": {
            "needs_background": "light"
          }
        }
      ]
    },
    {
      "cell_type": "markdown",
      "source": [
        "Predict Lables:"
      ],
      "metadata": {
        "id": "dQSSfSL8tuOl"
      }
    },
    {
      "cell_type": "code",
      "source": [
        "predicted_classes = fashion_model.predict(test_X)"
      ],
      "metadata": {
        "id": "WQt8PnRUttNe"
      },
      "execution_count": 40,
      "outputs": []
    },
    {
      "cell_type": "code",
      "source": [
        "predicted_classes"
      ],
      "metadata": {
        "id": "E2Sem7WbV6QJ",
        "outputId": "c347b943-2275-41be-9388-6ff77f02a0f2",
        "colab": {
          "base_uri": "https://localhost:8080/"
        }
      },
      "execution_count": 41,
      "outputs": [
        {
          "output_type": "execute_result",
          "data": {
            "text/plain": [
              "array([[8.24009350e-12, 9.66360238e-13, 2.30537499e-14, ...,\n",
              "        2.14917191e-06, 1.08233709e-14, 9.99997616e-01],\n",
              "       [7.62604486e-07, 6.35478168e-15, 9.99998689e-01, ...,\n",
              "        1.16068268e-15, 1.00318289e-12, 3.25719024e-15],\n",
              "       [1.05879938e-13, 1.00000000e+00, 1.97521256e-14, ...,\n",
              "        7.47764054e-22, 7.31305906e-16, 1.99145115e-19],\n",
              "       ...,\n",
              "       [9.66359770e-11, 3.87603666e-14, 4.01738365e-11, ...,\n",
              "        4.87405289e-14, 1.00000000e+00, 8.69381661e-13],\n",
              "       [1.64236028e-10, 1.00000000e+00, 1.59503952e-10, ...,\n",
              "        4.73826578e-16, 1.33691079e-11, 2.62687279e-14],\n",
              "       [5.00981150e-06, 1.15874215e-07, 4.28054864e-06, ...,\n",
              "        2.18285382e-01, 7.90126942e-05, 1.19213924e-04]], dtype=float32)"
            ]
          },
          "metadata": {},
          "execution_count": 41
        }
      ]
    },
    {
      "cell_type": "code",
      "source": [
        "predicted_classes = np.argmax(np.round(predicted_classes),axis=1)\n",
        "predicted_classes"
      ],
      "metadata": {
        "id": "gbHf6d9dWIDR",
        "outputId": "1d9bdd80-cfe3-40cb-e6e4-851b0bf92656",
        "colab": {
          "base_uri": "https://localhost:8080/"
        }
      },
      "execution_count": 42,
      "outputs": [
        {
          "output_type": "execute_result",
          "data": {
            "text/plain": [
              "array([9, 2, 1, ..., 8, 1, 5])"
            ]
          },
          "metadata": {},
          "execution_count": 42
        }
      ]
    },
    {
      "cell_type": "code",
      "source": [
        "predicted_classes.shape, test_Y.shape"
      ],
      "metadata": {
        "id": "eBl9o_Ekt0Jc",
        "colab": {
          "base_uri": "https://localhost:8080/"
        },
        "outputId": "f6b063ce-632a-4915-85eb-a5d907896e5f"
      },
      "execution_count": 43,
      "outputs": [
        {
          "output_type": "execute_result",
          "data": {
            "text/plain": [
              "((10000,), (10000,))"
            ]
          },
          "metadata": {},
          "execution_count": 43
        }
      ]
    },
    {
      "cell_type": "code",
      "source": [
        "correct = np.where(predicted_classes==test_Y)[0]\n",
        "print (\"Found %d correct labels\" % len(correct))\n",
        "for i, correct in enumerate(correct[:9]):\n",
        "    plt.subplot(3,3,i+1)\n",
        "    plt.imshow(test_X[correct].reshape(28,28), cmap='gray', interpolation='none')\n",
        "    plt.title(\"Predicted {}, Class {}\".format(predicted_classes[correct], test_Y[correct]))\n",
        "    plt.tight_layout()"
      ],
      "metadata": {
        "id": "A7elfvz1uA1m",
        "colab": {
          "base_uri": "https://localhost:8080/",
          "height": 314
        },
        "outputId": "34b7c29f-38e8-4ac9-a6a7-aebb2c5301dd"
      },
      "execution_count": 45,
      "outputs": [
        {
          "output_type": "stream",
          "name": "stdout",
          "text": [
            "Found 9150 correct labels\n"
          ]
        },
        {
          "output_type": "display_data",
          "data": {
            "image/png": "[encoded data removed]",
            "text/plain": [
              "<Figure size 432x288 with 9 Axes>"
            ]
          },
          "metadata": {
            "needs_background": "light"
          }
        }
      ]
    },
    {
      "cell_type": "code",
      "source": [
        "incorrect = np.where(predicted_classes!=test_Y)[0]\n",
        "print(\"Found %d incorrect labels\" % len(incorrect))\n",
        "for i, incorrect in enumerate(incorrect[:9]):\n",
        "    plt.subplot(3,3,i+1)\n",
        "    plt.imshow(test_X[incorrect].reshape(28,28), cmap='gray', interpolation='none')\n",
        "    plt.title(\"Predicted {}, Class {}\".format(predicted_classes[incorrect], test_Y[incorrect]))\n",
        "    plt.tight_layout()"
      ],
      "metadata": {
        "id": "2_sp8ikauFab",
        "colab": {
          "base_uri": "https://localhost:8080/",
          "height": 314
        },
        "outputId": "b659aa6f-8b93-432a-b096-55cc9686e0b8"
      },
      "execution_count": 46,
      "outputs": [
        {
          "output_type": "stream",
          "name": "stdout",
          "text": [
            "Found 850 incorrect labels\n"
          ]
        },
        {
          "output_type": "display_data",
          "data": {
            "image/png": "[encoded data removed]",
            "text/plain": [
              "<Figure size 432x288 with 9 Axes>"
            ]
          },
          "metadata": {
            "needs_background": "light"
          }
        }
      ]
    },
    {
      "cell_type": "code",
      "source": [
        "from sklearn.metrics import classification_report\n",
        "target_names = [\"Class {}\".format(i) for i in range(num_classes)]\n",
        "print(classification_report(test_Y, predicted_classes, target_names=target_names))"
      ],
      "metadata": {
        "id": "aJRD-0V7uLtb",
        "colab": {
          "base_uri": "https://localhost:8080/"
        },
        "outputId": "60d93e78-9bb6-4010-97bf-71c88460acea"
      },
      "execution_count": 47,
      "outputs": [
        {
          "output_type": "stream",
          "name": "stdout",
          "text": [
            "              precision    recall  f1-score   support\n",
            "\n",
            "     Class 0       0.78      0.90      0.83      1000\n",
            "     Class 1       0.99      0.99      0.99      1000\n",
            "     Class 2       0.86      0.88      0.87      1000\n",
            "     Class 3       0.92      0.93      0.92      1000\n",
            "     Class 4       0.91      0.81      0.86      1000\n",
            "     Class 5       0.99      0.97      0.98      1000\n",
            "     Class 6       0.79      0.74      0.76      1000\n",
            "     Class 7       0.95      0.98      0.97      1000\n",
            "     Class 8       0.99      0.98      0.99      1000\n",
            "     Class 9       0.98      0.97      0.97      1000\n",
            "\n",
            "    accuracy                           0.92     10000\n",
            "   macro avg       0.92      0.92      0.91     10000\n",
            "weighted avg       0.92      0.92      0.91     10000\n",
            "\n"
          ]
        }
      ]
    },
    {
      "cell_type": "code",
      "source": [
        ""
      ],
      "metadata": {
        "id": "asnecCALW8qj"
      },
      "execution_count": null,
      "outputs": []
    }
  ]
}